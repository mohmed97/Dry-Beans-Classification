{
 "cells": [
  {
   "cell_type": "code",
   "execution_count": 1,
   "id": "fa7a5d71",
   "metadata": {
    "_cell_guid": "b1076dfc-b9ad-4769-8c92-a6c4dae69d19",
    "_uuid": "8f2839f25d086af736a60e9eeb907d3b93b6e0e5",
    "execution": {
     "iopub.execute_input": "2021-09-30T16:31:37.964416Z",
     "iopub.status.busy": "2021-09-30T16:31:37.963544Z",
     "iopub.status.idle": "2021-09-30T16:31:39.385182Z",
     "shell.execute_reply": "2021-09-30T16:31:39.384032Z",
     "shell.execute_reply.started": "2021-09-30T16:27:19.928419Z"
    },
    "papermill": {
     "duration": 1.453293,
     "end_time": "2021-09-30T16:31:39.385376",
     "exception": false,
     "start_time": "2021-09-30T16:31:37.932083",
     "status": "completed"
    },
    "tags": []
   },
   "outputs": [],
   "source": [
    "# data analysis and wrangling\n",
    "import pandas as pd\n",
    "import numpy as np\n",
    "import random as rnd\n",
    "\n",
    "# visualization\n",
    "import seaborn as sns\n",
    "import matplotlib.pyplot as plt\n",
    "%matplotlib inline\n",
    "\n",
    "# preprocessing\n",
    "from sklearn.preprocessing import LabelEncoder\n",
    "from sklearn.preprocessing import StandardScaler\n",
    "from sklearn.model_selection import cross_val_score\n",
    "\n",
    "# machine learning\n",
    "from sklearn.model_selection import train_test_split\n",
    "from sklearn.svm import SVC\n",
    "from sklearn.ensemble import RandomForestClassifier\n",
    "from sklearn.neighbors import KNeighborsClassifier\n",
    "from sklearn.tree import DecisionTreeClassifier\n",
    "from sklearn.ensemble import VotingClassifier\n",
    "from sklearn.neural_network import MLPClassifier\n",
    "from xgboost import XGBClassifier"
   ]
  },
  {
   "cell_type": "code",
   "execution_count": 2,
   "id": "ef440541",
   "metadata": {
    "execution": {
     "iopub.execute_input": "2021-09-30T16:31:39.414717Z",
     "iopub.status.busy": "2021-09-30T16:31:39.414065Z",
     "iopub.status.idle": "2021-09-30T16:31:39.647792Z",
     "shell.execute_reply": "2021-09-30T16:31:39.647085Z",
     "shell.execute_reply.started": "2021-09-30T16:27:21.631351Z"
    },
    "papermill": {
     "duration": 0.248174,
     "end_time": "2021-09-30T16:31:39.647942",
     "exception": false,
     "start_time": "2021-09-30T16:31:39.399768",
     "status": "completed"
    },
    "tags": []
   },
   "outputs": [],
   "source": [
    "train_df = pd.read_csv('/kaggle/input/dry-beans-classification-iti-ai-pro-intake01/train.csv')\n",
    "test_df = pd.read_csv('/kaggle/input/dry-beans-classification-iti-ai-pro-intake01/test.csv')\n",
    "combine = [train_df , test_df] "
   ]
  },
  {
   "cell_type": "code",
   "execution_count": 3,
   "id": "3e214717",
   "metadata": {
    "execution": {
     "iopub.execute_input": "2021-09-30T16:31:39.686168Z",
     "iopub.status.busy": "2021-09-30T16:31:39.685453Z",
     "iopub.status.idle": "2021-09-30T16:31:39.688185Z",
     "shell.execute_reply": "2021-09-30T16:31:39.688699Z",
     "shell.execute_reply.started": "2021-09-30T16:27:47.824225Z"
    },
    "papermill": {
     "duration": 0.029204,
     "end_time": "2021-09-30T16:31:39.688881",
     "exception": false,
     "start_time": "2021-09-30T16:31:39.659677",
     "status": "completed"
    },
    "tags": []
   },
   "outputs": [],
   "source": [
    "le = LabelEncoder()\n",
    "train_df[\"y\"] = le.fit_transform(train_df[\"y\"])"
   ]
  },
  {
   "cell_type": "code",
   "execution_count": 4,
   "id": "e0aab6cb",
   "metadata": {
    "execution": {
     "iopub.execute_input": "2021-09-30T16:31:39.717864Z",
     "iopub.status.busy": "2021-09-30T16:31:39.717180Z",
     "iopub.status.idle": "2021-09-30T16:31:39.725678Z",
     "shell.execute_reply": "2021-09-30T16:31:39.726410Z",
     "shell.execute_reply.started": "2021-09-30T16:27:59.599844Z"
    },
    "papermill": {
     "duration": 0.024127,
     "end_time": "2021-09-30T16:31:39.726613",
     "exception": false,
     "start_time": "2021-09-30T16:31:39.702486",
     "status": "completed"
    },
    "tags": []
   },
   "outputs": [],
   "source": [
    "X = train_df.drop(columns=['ID','y'])\n",
    "y = train_df[\"y\"]\n"
   ]
  },
  {
   "cell_type": "code",
   "execution_count": 5,
   "id": "b4946914",
   "metadata": {
    "execution": {
     "iopub.execute_input": "2021-09-30T16:31:39.757840Z",
     "iopub.status.busy": "2021-09-30T16:31:39.756804Z",
     "iopub.status.idle": "2021-09-30T16:31:39.777547Z",
     "shell.execute_reply": "2021-09-30T16:31:39.778068Z",
     "shell.execute_reply.started": "2021-09-30T14:51:16.752250Z"
    },
    "papermill": {
     "duration": 0.039891,
     "end_time": "2021-09-30T16:31:39.778241",
     "exception": false,
     "start_time": "2021-09-30T16:31:39.738350",
     "status": "completed"
    },
    "tags": []
   },
   "outputs": [
    {
     "data": {
      "text/html": [
       "<div>\n",
       "<style scoped>\n",
       "    .dataframe tbody tr th:only-of-type {\n",
       "        vertical-align: middle;\n",
       "    }\n",
       "\n",
       "    .dataframe tbody tr th {\n",
       "        vertical-align: top;\n",
       "    }\n",
       "\n",
       "    .dataframe thead th {\n",
       "        text-align: right;\n",
       "    }\n",
       "</style>\n",
       "<table border=\"1\" class=\"dataframe\">\n",
       "  <thead>\n",
       "    <tr style=\"text-align: right;\">\n",
       "      <th></th>\n",
       "      <th>ID</th>\n",
       "      <th>Area</th>\n",
       "      <th>Perimeter</th>\n",
       "      <th>MajorAxisLength</th>\n",
       "      <th>MinorAxisLength</th>\n",
       "      <th>AspectRation</th>\n",
       "      <th>Eccentricity</th>\n",
       "      <th>ConvexArea</th>\n",
       "      <th>EquivDiameter</th>\n",
       "      <th>Extent</th>\n",
       "      <th>Solidity</th>\n",
       "      <th>roundness</th>\n",
       "      <th>Compactness</th>\n",
       "      <th>ShapeFactor1</th>\n",
       "      <th>ShapeFactor2</th>\n",
       "      <th>ShapeFactor3</th>\n",
       "      <th>ShapeFactor4</th>\n",
       "    </tr>\n",
       "  </thead>\n",
       "  <tbody>\n",
       "    <tr>\n",
       "      <th>0</th>\n",
       "      <td>10834</td>\n",
       "      <td>57659</td>\n",
       "      <td>955.434</td>\n",
       "      <td>387.757607</td>\n",
       "      <td>196.625782</td>\n",
       "      <td>1.972059</td>\n",
       "      <td>0.861896</td>\n",
       "      <td>60188</td>\n",
       "      <td>270.949661</td>\n",
       "      <td>0.62079</td>\n",
       "      <td>0.957982</td>\n",
       "      <td>0.793735</td>\n",
       "      <td>0.69876</td>\n",
       "      <td>0.006725</td>\n",
       "      <td>0.000989</td>\n",
       "      <td>0.488266</td>\n",
       "      <td>0.962889</td>\n",
       "    </tr>\n",
       "  </tbody>\n",
       "</table>\n",
       "</div>"
      ],
      "text/plain": [
       "      ID   Area  Perimeter  MajorAxisLength  MinorAxisLength  AspectRation  \\\n",
       "0  10834  57659    955.434       387.757607       196.625782      1.972059   \n",
       "\n",
       "   Eccentricity  ConvexArea  EquivDiameter   Extent  Solidity  roundness  \\\n",
       "0      0.861896       60188     270.949661  0.62079  0.957982   0.793735   \n",
       "\n",
       "   Compactness  ShapeFactor1  ShapeFactor2  ShapeFactor3  ShapeFactor4  \n",
       "0      0.69876      0.006725      0.000989      0.488266      0.962889  "
      ]
     },
     "execution_count": 5,
     "metadata": {},
     "output_type": "execute_result"
    }
   ],
   "source": [
    "# X.drop('Compactness',axis=1, inplace =True)\n",
    "test_df.head(1)"
   ]
  },
  {
   "cell_type": "code",
   "execution_count": 6,
   "id": "93b0217f",
   "metadata": {
    "execution": {
     "iopub.execute_input": "2021-09-30T16:31:39.811622Z",
     "iopub.status.busy": "2021-09-30T16:31:39.810393Z",
     "iopub.status.idle": "2021-09-30T16:31:39.821109Z",
     "shell.execute_reply": "2021-09-30T16:31:39.820516Z",
     "shell.execute_reply.started": "2021-09-30T16:28:08.179316Z"
    },
    "papermill": {
     "duration": 0.030201,
     "end_time": "2021-09-30T16:31:39.821264",
     "exception": false,
     "start_time": "2021-09-30T16:31:39.791063",
     "status": "completed"
    },
    "tags": []
   },
   "outputs": [],
   "source": [
    "scaler = StandardScaler()\n",
    "\n",
    "X_scaled = scaler.fit_transform(X)\n",
    "X_scaled = pd.DataFrame(data = X_scaled, columns = X.columns)"
   ]
  },
  {
   "cell_type": "code",
   "execution_count": 7,
   "id": "7b009b3e",
   "metadata": {
    "execution": {
     "iopub.execute_input": "2021-09-30T16:31:39.851731Z",
     "iopub.status.busy": "2021-09-30T16:31:39.851048Z",
     "iopub.status.idle": "2021-09-30T16:31:39.867736Z",
     "shell.execute_reply": "2021-09-30T16:31:39.867060Z",
     "shell.execute_reply.started": "2021-09-30T16:28:10.849925Z"
    },
    "papermill": {
     "duration": 0.03411,
     "end_time": "2021-09-30T16:31:39.867877",
     "exception": false,
     "start_time": "2021-09-30T16:31:39.833767",
     "status": "completed"
    },
    "tags": []
   },
   "outputs": [],
   "source": [
    "X_train, X_val, y_train, y_val = train_test_split(X_scaled, y, test_size=0.2, random_state=42 ,stratify=y)"
   ]
  },
  {
   "cell_type": "code",
   "execution_count": 8,
   "id": "5c7f7b5f",
   "metadata": {
    "execution": {
     "iopub.execute_input": "2021-09-30T16:31:39.897525Z",
     "iopub.status.busy": "2021-09-30T16:31:39.896514Z",
     "iopub.status.idle": "2021-09-30T16:31:39.899784Z",
     "shell.execute_reply": "2021-09-30T16:31:39.899108Z",
     "shell.execute_reply.started": "2021-09-30T14:06:24.463421Z"
    },
    "papermill": {
     "duration": 0.019868,
     "end_time": "2021-09-30T16:31:39.899936",
     "exception": false,
     "start_time": "2021-09-30T16:31:39.880068",
     "status": "completed"
    },
    "tags": []
   },
   "outputs": [],
   "source": [
    "cols=['f1','f2','f3','MajorAxisLength','MinorAxisLength','Solidity','Extent','ShapeFactor4',\\\n",
    "      'ShapeFactor1','Eccentricity']"
   ]
  },
  {
   "cell_type": "code",
   "execution_count": 9,
   "id": "44d7a42e",
   "metadata": {
    "execution": {
     "iopub.execute_input": "2021-09-30T16:31:39.932483Z",
     "iopub.status.busy": "2021-09-30T16:31:39.931386Z",
     "iopub.status.idle": "2021-09-30T16:33:31.762614Z",
     "shell.execute_reply": "2021-09-30T16:33:31.763148Z",
     "shell.execute_reply.started": "2021-09-30T16:28:34.521075Z"
    },
    "papermill": {
     "duration": 111.851123,
     "end_time": "2021-09-30T16:33:31.763335",
     "exception": false,
     "start_time": "2021-09-30T16:31:39.912212",
     "status": "completed"
    },
    "tags": []
   },
   "outputs": [
    {
     "name": "stderr",
     "output_type": "stream",
     "text": [
      "/opt/conda/lib/python3.7/site-packages/xgboost/sklearn.py:1146: UserWarning: The use of label encoder in XGBClassifier is deprecated and will be removed in a future release. To remove this warning, do the following: 1) Pass option use_label_encoder=False when constructing XGBClassifier object; and 2) Encode your labels (y) as integers starting with 0, i.e. 0, 1, 2, ..., [num_class - 1].\n",
      "  warnings.warn(label_encoder_deprecation_msg, UserWarning)\n"
     ]
    },
    {
     "name": "stdout",
     "output_type": "stream",
     "text": [
      "[16:31:49] WARNING: ../src/learner.cc:1095: Starting in XGBoost 1.3.0, the default evaluation metric used with the objective 'multi:softprob' was changed from 'merror' to 'mlogloss'. Explicitly set eval_metric if you'd like to restore the old behavior.\n"
     ]
    },
    {
     "name": "stderr",
     "output_type": "stream",
     "text": [
      "/opt/conda/lib/python3.7/site-packages/xgboost/sklearn.py:1146: UserWarning: The use of label encoder in XGBClassifier is deprecated and will be removed in a future release. To remove this warning, do the following: 1) Pass option use_label_encoder=False when constructing XGBClassifier object; and 2) Encode your labels (y) as integers starting with 0, i.e. 0, 1, 2, ..., [num_class - 1].\n",
      "  warnings.warn(label_encoder_deprecation_msg, UserWarning)\n"
     ]
    },
    {
     "name": "stdout",
     "output_type": "stream",
     "text": [
      "[16:32:08] WARNING: ../src/learner.cc:1095: Starting in XGBoost 1.3.0, the default evaluation metric used with the objective 'multi:softprob' was changed from 'merror' to 'mlogloss'. Explicitly set eval_metric if you'd like to restore the old behavior.\n"
     ]
    },
    {
     "name": "stderr",
     "output_type": "stream",
     "text": [
      "/opt/conda/lib/python3.7/site-packages/xgboost/sklearn.py:1146: UserWarning: The use of label encoder in XGBClassifier is deprecated and will be removed in a future release. To remove this warning, do the following: 1) Pass option use_label_encoder=False when constructing XGBClassifier object; and 2) Encode your labels (y) as integers starting with 0, i.e. 0, 1, 2, ..., [num_class - 1].\n",
      "  warnings.warn(label_encoder_deprecation_msg, UserWarning)\n"
     ]
    },
    {
     "name": "stdout",
     "output_type": "stream",
     "text": [
      "[16:32:23] WARNING: ../src/learner.cc:1095: Starting in XGBoost 1.3.0, the default evaluation metric used with the objective 'multi:softprob' was changed from 'merror' to 'mlogloss'. Explicitly set eval_metric if you'd like to restore the old behavior.\n"
     ]
    },
    {
     "name": "stderr",
     "output_type": "stream",
     "text": [
      "/opt/conda/lib/python3.7/site-packages/xgboost/sklearn.py:1146: UserWarning: The use of label encoder in XGBClassifier is deprecated and will be removed in a future release. To remove this warning, do the following: 1) Pass option use_label_encoder=False when constructing XGBClassifier object; and 2) Encode your labels (y) as integers starting with 0, i.e. 0, 1, 2, ..., [num_class - 1].\n",
      "  warnings.warn(label_encoder_deprecation_msg, UserWarning)\n"
     ]
    },
    {
     "name": "stdout",
     "output_type": "stream",
     "text": [
      "[16:32:41] WARNING: ../src/learner.cc:1095: Starting in XGBoost 1.3.0, the default evaluation metric used with the objective 'multi:softprob' was changed from 'merror' to 'mlogloss'. Explicitly set eval_metric if you'd like to restore the old behavior.\n"
     ]
    },
    {
     "name": "stderr",
     "output_type": "stream",
     "text": [
      "/opt/conda/lib/python3.7/site-packages/xgboost/sklearn.py:1146: UserWarning: The use of label encoder in XGBClassifier is deprecated and will be removed in a future release. To remove this warning, do the following: 1) Pass option use_label_encoder=False when constructing XGBClassifier object; and 2) Encode your labels (y) as integers starting with 0, i.e. 0, 1, 2, ..., [num_class - 1].\n",
      "  warnings.warn(label_encoder_deprecation_msg, UserWarning)\n"
     ]
    },
    {
     "name": "stdout",
     "output_type": "stream",
     "text": [
      "[16:32:56] WARNING: ../src/learner.cc:1095: Starting in XGBoost 1.3.0, the default evaluation metric used with the objective 'multi:softprob' was changed from 'merror' to 'mlogloss'. Explicitly set eval_metric if you'd like to restore the old behavior.\n"
     ]
    },
    {
     "name": "stderr",
     "output_type": "stream",
     "text": [
      "/opt/conda/lib/python3.7/site-packages/xgboost/sklearn.py:1146: UserWarning: The use of label encoder in XGBClassifier is deprecated and will be removed in a future release. To remove this warning, do the following: 1) Pass option use_label_encoder=False when constructing XGBClassifier object; and 2) Encode your labels (y) as integers starting with 0, i.e. 0, 1, 2, ..., [num_class - 1].\n",
      "  warnings.warn(label_encoder_deprecation_msg, UserWarning)\n"
     ]
    },
    {
     "name": "stdout",
     "output_type": "stream",
     "text": [
      "[16:33:24] WARNING: ../src/learner.cc:1095: Starting in XGBoost 1.3.0, the default evaluation metric used with the objective 'multi:softprob' was changed from 'merror' to 'mlogloss'. Explicitly set eval_metric if you'd like to restore the old behavior.\n"
     ]
    },
    {
     "data": {
      "text/plain": [
       "VotingClassifier(estimators=[('mlp', MLPClassifier()),\n",
       "                             ('rf', RandomForestClassifier()),\n",
       "                             ('xgb',\n",
       "                              XGBClassifier(base_score=None, booster=None,\n",
       "                                            colsample_bylevel=None,\n",
       "                                            colsample_bynode=None,\n",
       "                                            colsample_bytree=None, gamma=None,\n",
       "                                            gpu_id=None, importance_type='gain',\n",
       "                                            interaction_constraints=None,\n",
       "                                            learning_rate=None,\n",
       "                                            max_delta_step=None, max_depth=None,\n",
       "                                            min_child_weight=None, missing=nan,\n",
       "                                            monotone_constraints=None,\n",
       "                                            n_estimators=100, n_jobs=None,\n",
       "                                            num_parallel_tree=None,\n",
       "                                            random_state=None, reg_alpha=None,\n",
       "                                            reg_lambda=None,\n",
       "                                            scale_pos_weight=None,\n",
       "                                            subsample=None, tree_method=None,\n",
       "                                            validate_parameters=None,\n",
       "                                            verbosity=None))])"
      ]
     },
     "execution_count": 9,
     "metadata": {},
     "output_type": "execute_result"
    }
   ],
   "source": [
    "# from sklearn.model_selection import GridSearchCV\n",
    "model1 = RandomForestClassifier()\n",
    "model2 = MLPClassifier()\n",
    "model3 = XGBClassifier()\n",
    "model4 = SVC()\n",
    "model5 = DecisionTreeClassifier()\n",
    "vc_model = VotingClassifier(estimators=[('mlp', model2),('rf', model1),('xgb', model3)] , voting = 'hard')\n",
    "cross_val_score(vc_model, X, y, cv=5)\n",
    "# params = {'weights':[[2,1,1]]}\n",
    "# grid_Search = GridSearchCV(param_grid = params, estimator=vc_model)\n",
    "# grid_Search.fit(X_train,y_train)\n",
    "# print(grid_Search.best_score_)\n",
    "vc_model.fit(X_train,y_train)\n",
    "# ('svm', model4),,('dt', model5)"
   ]
  },
  {
   "cell_type": "code",
   "execution_count": 10,
   "id": "40729a88",
   "metadata": {
    "execution": {
     "iopub.execute_input": "2021-09-30T16:33:31.800476Z",
     "iopub.status.busy": "2021-09-30T16:33:31.799522Z",
     "iopub.status.idle": "2021-09-30T16:33:32.105165Z",
     "shell.execute_reply": "2021-09-30T16:33:32.104622Z",
     "shell.execute_reply.started": "2021-09-30T16:30:42.237066Z"
    },
    "papermill": {
     "duration": 0.325522,
     "end_time": "2021-09-30T16:33:32.105310",
     "exception": false,
     "start_time": "2021-09-30T16:33:31.779788",
     "status": "completed"
    },
    "tags": []
   },
   "outputs": [
    {
     "data": {
      "text/plain": [
       "0.9358560221504384"
      ]
     },
     "execution_count": 10,
     "metadata": {},
     "output_type": "execute_result"
    }
   ],
   "source": [
    "y_pred = vc_model.predict(X_val)\n",
    "vc_model.score(X_val,y_val)"
   ]
  },
  {
   "cell_type": "code",
   "execution_count": 11,
   "id": "01381f49",
   "metadata": {
    "execution": {
     "iopub.execute_input": "2021-09-30T16:33:32.141436Z",
     "iopub.status.busy": "2021-09-30T16:33:32.140738Z",
     "iopub.status.idle": "2021-09-30T16:33:32.148608Z",
     "shell.execute_reply": "2021-09-30T16:33:32.149282Z",
     "shell.execute_reply.started": "2021-09-30T16:30:42.555036Z"
    },
    "papermill": {
     "duration": 0.027687,
     "end_time": "2021-09-30T16:33:32.149475",
     "exception": false,
     "start_time": "2021-09-30T16:33:32.121788",
     "status": "completed"
    },
    "tags": []
   },
   "outputs": [],
   "source": [
    "test_df.drop(['ID'],axis=1,inplace=True)\n",
    "test_df_scaled = scaler.transform(test_df)\n",
    "test_df_scaled = pd.DataFrame(data = test_df_scaled, columns = test_df.columns)\n"
   ]
  },
  {
   "cell_type": "code",
   "execution_count": 12,
   "id": "f8f80142",
   "metadata": {
    "execution": {
     "iopub.execute_input": "2021-09-30T16:33:32.192238Z",
     "iopub.status.busy": "2021-09-30T16:33:32.191506Z",
     "iopub.status.idle": "2021-09-30T16:33:32.354992Z",
     "shell.execute_reply": "2021-09-30T16:33:32.354389Z",
     "shell.execute_reply.started": "2021-09-30T16:30:42.569946Z"
    },
    "papermill": {
     "duration": 0.18845,
     "end_time": "2021-09-30T16:33:32.355137",
     "exception": false,
     "start_time": "2021-09-30T16:33:32.166687",
     "status": "completed"
    },
    "tags": []
   },
   "outputs": [],
   "source": [
    "preds = vc_model.predict(test_df_scaled)\n",
    "preds = le.inverse_transform(preds)"
   ]
  },
  {
   "cell_type": "code",
   "execution_count": 13,
   "id": "4b15f118",
   "metadata": {
    "execution": {
     "iopub.execute_input": "2021-09-30T16:33:32.393794Z",
     "iopub.status.busy": "2021-09-30T16:33:32.393091Z",
     "iopub.status.idle": "2021-09-30T16:33:32.419988Z",
     "shell.execute_reply": "2021-09-30T16:33:32.420489Z",
     "shell.execute_reply.started": "2021-09-30T14:06:43.568939Z"
    },
    "papermill": {
     "duration": 0.048905,
     "end_time": "2021-09-30T16:33:32.420696",
     "exception": false,
     "start_time": "2021-09-30T16:33:32.371791",
     "status": "completed"
    },
    "tags": []
   },
   "outputs": [],
   "source": [
    "test_df = pd.read_csv('/kaggle/input/dry-beans-classification-iti-ai-pro-intake01/test.csv')\n",
    "my_submission = pd.DataFrame({'ID': test_df['ID'], \n",
    "                              'y': preds})\n",
    "\n",
    "my_submission.to_csv('submission.csv', index = False)"
   ]
  }
 ],
 "metadata": {
  "kernelspec": {
   "display_name": "Python 3",
   "language": "python",
   "name": "python3"
  },
  "language_info": {
   "codemirror_mode": {
    "name": "ipython",
    "version": 3
   },
   "file_extension": ".py",
   "mimetype": "text/x-python",
   "name": "python",
   "nbconvert_exporter": "python",
   "pygments_lexer": "ipython3",
   "version": "3.7.10"
  },
  "papermill": {
   "default_parameters": {},
   "duration": 123.728609,
   "end_time": "2021-09-30T16:33:33.147374",
   "environment_variables": {},
   "exception": null,
   "input_path": "__notebook__.ipynb",
   "output_path": "__notebook__.ipynb",
   "parameters": {},
   "start_time": "2021-09-30T16:31:29.418765",
   "version": "2.3.3"
  }
 },
 "nbformat": 4,
 "nbformat_minor": 5
}
